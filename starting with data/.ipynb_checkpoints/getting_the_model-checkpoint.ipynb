{
 "cells": [
  {
   "cell_type": "code",
   "execution_count": 15,
   "id": "1d67c098",
   "metadata": {},
   "outputs": [],
   "source": [
    "## what do i need? i need the temp, the radius (from the model) and i need the distance.\n",
    "## the temp i can get from the luminosity and the radius and the velocity\n",
    "## i am left with the distance ok got the distance good\n",
    "from astropy import units as u\n",
    "import astropy\n",
    "\n",
    "disstance_to_star = 26.4 * 10**6 * u.pc\n",
    "\n",
    "R_e = {3/2: 3.07 * 10**12 * u.cm, 3: 4.57 * 10**12 * u.cm}\n",
    "\n",
    "v_e = {3/2: 2.47 * 10**9 * u.cm / u.s, 3: 2.69 * 10**9 * u.cm / u.s}\n",
    "\n",
    "M_e = {3/2: 3.99 * 10**-2 * u.solMass, 3: 38.34 * 10**-2 * u.solMass}\n",
    "\n",
    "\n"
   ]
  },
  {
   "cell_type": "code",
   "execution_count": 17,
   "id": "1b9b195e",
   "metadata": {},
   "outputs": [],
   "source": [
    "\n",
    "## we set M_c = M_sun becuase the dependence is very week\n",
    "M_c = 1 * u.solMass\n",
    "\n",
    "## M = Me + Mc\n",
    "M = lambda n: M_e[n] + M_c\n",
    "\n",
    "## vs,8.5 is the velocity of the shock vs in units of 10^8.5 cm s−1\n",
    "v = lambda n: v_e[n] / (10**8.5)\n",
    "\n",
    "## where R13 = Re/10^13 cm\n",
    "R_13 = lambda n: R_e[n] / (10**13)\n",
    "\n",
    "## where k0.34 is the opacity in units of 0.34 cm2 g−1\n",
    "## where k0.34 is the opacity in units of 0.34 cm2 g−1\n",
    "k = 1 * 0.34 * u.cm**2 / u.g\n",
    "\n",
    "def f_p(M_e, n):\n",
    "    \"\"\"\n",
    "    returns the ratio between the enitial mass and the core mass.\n",
    "    \"\"\"\n",
    "    if n == 3/2:\n",
    "        return (M_e/M_c)**0.5\n",
    "    elif n == 3:\n",
    "        return 0.08 * (M_e/M_c)\n",
    "    \n",
    "\n",
    "    \n"
   ]
  },
  {
   "cell_type": "code",
   "execution_count": 21,
   "id": "1db5bfa5",
   "metadata": {},
   "outputs": [],
   "source": [
    "def T(n, t):\n",
    "    \"\"\"\n",
    "    the color temp is given by this function.\n",
    "    where t is in days and M is in solar masses.\n",
    "    \"\"\"\n",
    "    if n == 3/2:\n",
    "        num1 = 2.05\n",
    "        num2 = 0.027\n",
    "    else:\n",
    "        num1 = 1.96\n",
    "        num2 = 0.016\n",
    "    return num1 * 10**4 *(((v(n) * t)**2) / f_p(n) * M(n) * k)**num2 * (R_13(n) / k)**0.25 * t**-0.5\n",
    "\n",
    "def R_in_rsun(n, t):\n",
    "    \"\"\"\n",
    "    gets t in days and converts to seconds, then converts the result to rsun\n",
    "    \"\"\"\n",
    "    R = R_e[n] + v_e[n] * t.to_value(u.s)\n",
    "    return R.to_value(u.solRad)\n",
    "\n"
   ]
  },
  {
   "cell_type": "code",
   "execution_count": 20,
   "id": "3d3703c6",
   "metadata": {},
   "outputs": [],
   "source": [
    "import pysynphot as S\n",
    "\n",
    "def normalize(distance, radius, bb):\n",
    "    pass\n",
    "\n",
    "def get_Mag(n, t):\n",
    "    bb = S.BlackBody(T(n, t))\n",
    "    \n",
    "    bb = normalize(distance, R_in_rsun(n, t), bb)\n",
    "\n",
    "    pass\n",
    "    \n",
    "    \n"
   ]
  },
  {
   "cell_type": "code",
   "execution_count": null,
   "id": "4d57960e",
   "metadata": {},
   "outputs": [],
   "source": []
  },
  {
   "cell_type": "code",
   "execution_count": null,
   "id": "2c551d54",
   "metadata": {},
   "outputs": [],
   "source": []
  },
  {
   "cell_type": "code",
   "execution_count": null,
   "id": "f624fb07",
   "metadata": {},
   "outputs": [],
   "source": []
  }
 ],
 "metadata": {
  "kernelspec": {
   "display_name": "Python 3 (ipykernel)",
   "language": "python",
   "name": "python3"
  },
  "language_info": {
   "codemirror_mode": {
    "name": "ipython",
    "version": 3
   },
   "file_extension": ".py",
   "mimetype": "text/x-python",
   "name": "python",
   "nbconvert_exporter": "python",
   "pygments_lexer": "ipython3",
   "version": "3.8.5"
  }
 },
 "nbformat": 4,
 "nbformat_minor": 5
}
