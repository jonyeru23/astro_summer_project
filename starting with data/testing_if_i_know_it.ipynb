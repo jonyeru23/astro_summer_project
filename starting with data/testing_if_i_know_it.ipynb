{
 "cells": [
  {
   "cell_type": "code",
   "execution_count": 3,
   "id": "b8da5ddb",
   "metadata": {},
   "outputs": [
    {
     "data": {
      "text/plain": [
       "array([[2338, 2284, 2397, ..., 2324, 2278, 2150],\n",
       "       [2338, 2284, 2149, ..., 2319, 2456, 2223],\n",
       "       [2350, 2259, 2450, ..., 2386, 2202, 2124],\n",
       "       ...,\n",
       "       [2234, 2285, 2450, ..., 2257, 2123, 2249],\n",
       "       [2342, 2236, 2221, ..., 2337, 2298, 2203],\n",
       "       [2164, 2218, 2325, ..., 2158, 2298, 2203]])"
      ]
     },
     "execution_count": 3,
     "metadata": {},
     "output_type": "execute_result"
    }
   ],
   "source": [
    "## the main url http://fcaglp.unlp.edu.ar/~ gaston/data/sn2016gkg/\n",
    "import astropy.io.fits as fits\n",
    "\n",
    "test_url = \"http://fcaglp.unlp.edu.ar/~gaston/data/sn2016gkg/series_01/NGC613-20s-L-B1-001UV-IR_P.fits\"\n",
    "\n",
    "with fits.open(test_url) as f:\n",
    "    data = f[0].data\n",
    "    \n",
    "data\n"
   ]
  }
 ],
 "metadata": {
  "kernelspec": {
   "display_name": "Python 3 (ipykernel)",
   "language": "python",
   "name": "python3"
  },
  "language_info": {
   "codemirror_mode": {
    "name": "ipython",
    "version": 3
   },
   "file_extension": ".py",
   "mimetype": "text/x-python",
   "name": "python",
   "nbconvert_exporter": "python",
   "pygments_lexer": "ipython3",
   "version": "3.8.5"
  }
 },
 "nbformat": 4,
 "nbformat_minor": 5
}
