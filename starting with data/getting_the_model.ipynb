{
 "cells": [
  {
   "cell_type": "code",
   "execution_count": null,
   "id": "1d67c098",
   "metadata": {},
   "outputs": [],
   "source": [
    "## what do i need? i need the temp, the radius (from the model) and i need the distance.\n",
    "## the temp i can get from the luminosity and the radius and the velocity\n",
    "## i am left with the distance ok got the distance good\n",
    "import astropy\n",
    "\n",
    "disstance_Mpc = 26.4\n",
    "## this is in cm\n",
    "R_e32 = 3.07 * 10**12\n",
    "\n",
    "## cm s^-1\n",
    "v_e32 = 2.47 * 10**9\n",
    "\n",
    "def radius_cm(r, v, t):\n",
    "    return r + v*t\n",
    "\n",
    "def days_to_s(t_days):\n",
    "    hours = 24\n",
    "    secs = mins = 60\n",
    "    return t_days * hours * secs * mins\n",
    "\n",
    "def r_sun_to_sec\n",
    "    "
   ]
  }
 ],
 "metadata": {
  "kernelspec": {
   "display_name": "Python 3 (ipykernel)",
   "language": "python",
   "name": "python3"
  },
  "language_info": {
   "codemirror_mode": {
    "name": "ipython",
    "version": 3
   },
   "file_extension": ".py",
   "mimetype": "text/x-python",
   "name": "python",
   "nbconvert_exporter": "python",
   "pygments_lexer": "ipython3",
   "version": "3.8.5"
  }
 },
 "nbformat": 4,
 "nbformat_minor": 5
}
