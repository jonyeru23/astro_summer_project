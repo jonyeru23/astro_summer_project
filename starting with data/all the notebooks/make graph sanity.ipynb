{
 "cells": [
  {
   "cell_type": "code",
   "execution_count": 1,
   "id": "c2b69eb1",
   "metadata": {},
   "outputs": [],
   "source": [
    "import pandas as pd\n",
    "import matplotlib.pyplot as plt"
   ]
  },
  {
   "cell_type": "code",
   "execution_count": 13,
   "id": "514dbe37",
   "metadata": {},
   "outputs": [
    {
     "data": {
      "image/png": "[encoded data removed]",
      "text/plain": [
       "<Figure size 432x288 with 1 Axes>"
      ]
     },
     "metadata": {
      "needs_background": "light"
     },
     "output_type": "display_data"
    }
   ],
   "source": [
    "our_path = r\"C:\\Users\\User\\OneDrive - mail.tau.ac.il\\Desktop\\אוניברסיטה\\אסטרו נודר\\פרויקט קיץ\\התחלה של קוד\\astro_summer_project\\starting with data\\excel files\\our_data.xlsx\"\n",
    "their_path = r\"C:\\Users\\User\\OneDrive - mail.tau.ac.il\\Desktop\\אוניברסיטה\\אסטרו נודר\\פרויקט קיץ\\התחלה של קוד\\astro_summer_project\\starting with data\\excel files\\their_data.xlsx\"\n",
    "\n",
    "\n",
    "our_data = pd.read_excel(our_path, sheet_name='the graph data')\n",
    "\n",
    "their_data = pd.read_excel(their_path, sheet_name='the graph data')\n",
    "\n",
    "x = their_data.loc[:, 'JD - 2457651.0[day]']\n",
    "y = their_data.loc[:, 'V[mag]']\n",
    "yerr = their_data.loc[:, 'error_V[mag]']\n",
    "\n",
    "plt.errorbar(x, y, yerr, fmt='.k', capsize=0)\n",
    "plt.errorbar(our_data.loc[0, 'JD - 2457651.0[day]'], our_data.loc[0, 'V[mag]'], our_data.loc[0, 'error_V[mag]'], fmt='ro')\n",
    "plt.xlabel('JD - 2457651.0[day]')\n",
    "plt.ylabel('V[mag]')\n",
    "plt.gca().invert_yaxis()\n",
    "plt.show()\n"
   ]
  },
  {
   "cell_type": "markdown",
   "id": "b62dbfa5",
   "metadata": {},
   "source": [
    "# testing luminosity"
   ]
  },
  {
   "cell_type": "code",
   "execution_count": 1,
   "id": "5f468435",
   "metadata": {},
   "outputs": [],
   "source": [
    "from astropy import units as u\n",
    "from astropy import constants as const\n",
    "import astropy\n",
    "import pandas as pd\n",
    "import matplotlib.pyplot as plt\n",
    "import numpy as np\n",
    "\n",
    "distance = 26.4 * 10**6 * u.pc\n",
    "\n",
    "R_e = {3/2: 3.07 * 10**12 * u.cm, 3: 4.57 * 10**12 * u.cm}\n",
    "\n",
    "v_e = {3/2: 2.47 * 10**9 * u.cm / u.s, 3: 2.69 * 10**9 * u.cm / u.s}\n",
    "\n",
    "M_e = {3/2: 3.99 * 10**-2 * u.solMass, 3: 38.34 * 10**-2 * u.solMass}\n"
   ]
  },
  {
   "cell_type": "code",
   "execution_count": 30,
   "id": "fbb1da4c",
   "metadata": {},
   "outputs": [],
   "source": [
    "## we set M_c = M_sun becuase the dependence is very week\n",
    "M_c = 1 * u.solMass\n",
    "\n",
    "## M = Me + Mc\n",
    "M = lambda n: M_e[n] + M_c\n",
    "\n",
    "## vs,8.5 is the velocity of the shock vs in units of 10^8.5 cm s−1\n",
    "v = lambda n: v_e[n] / (10**8.5)\n",
    "\n",
    "## where R13 = Re/10^13 cm\n",
    "R_13 = lambda n: R_e[n] / (10**13)\n",
    "\n",
    "## where k0.34 is the opacity in units of 0.34 cm2 g−1\n",
    "## where k0.34 is the opacity in units of 0.34 cm2 g−1\n",
    "## k = 1 * 0.34 * u.cm**2 / u.g\n",
    "k = 1\n",
    "\n",
    "def f_p(n):\n",
    "    \"\"\"\n",
    "    returns the ratio between the enitial mass and the core mass.\n",
    "    \"\"\"\n",
    "    if n == 3/2:\n",
    "        return (M_e[n]/M_c)**0.5\n",
    "    elif n == 3:\n",
    "        return 0.08 * (M_e[n]/M_c)\n",
    "    \n"
   ]
  },
  {
   "cell_type": "code",
   "execution_count": 34,
   "id": "9ea92c4d",
   "metadata": {},
   "outputs": [],
   "source": [
    "def L(n, t):\n",
    "    \"\"\"\n",
    "    the final luminosity function as SW16, t in days\n",
    "    \"\"\"\n",
    "    if n == 3/2:\n",
    "        nums = [1.88, -0.086, 1.67, 0.8]\n",
    "    else:\n",
    "        nums = [1.66, -0.175,4.57, 0.73]\n",
    "        \n",
    "    A = nums[0] * 10**42\n",
    "    B = (v(n) / (f_p(n) * M(n) * k)).value\n",
    "    C = (v(n)**2 * (R_13(n) / k)).value\n",
    "    D = (nums[2] / (19.5 * np.sqrt(k * M_e[n] * v(n)**-1))).value\n",
    "    print(A, B, C, D)\n",
    "    \n",
    "    return A * (np.power(B * np.power(t, 2), nums[1])) * C *np.exp(-np.power(D * t, nums[3])) * u.erg / u.s\n",
    "\n",
    "\n",
    "\n",
    "def L_p15(t):\n",
    "    \"\"\"\n",
    "    t should be in seconds\n",
    "    \"\"\"\n",
    "    k = 1\n",
    "    R_13 = 4.00 / 10 * u.cm\n",
    "    v_9 = 2.05 * u.cm / u.s\n",
    "    M_e = 2.5 * 10**-2 * u.solMass\n",
    "    M_sun = 1 *  u.solMass\n",
    "    \n",
    "    t = (t * u.d).to(u.s)\n",
    "    \n",
    "    \n",
    "    A = 8.27 * 10**42 * k**-1 * v_9**2 * R_13\n",
    "    B = -4.135 * 10**-11 * t * (t * v_9 + 2 * 10**4 * R_13)\n",
    "    C = k**-1  * (M_e/(0.01*M_sun))**-1\n",
    "    return A.value * np.exp(B.value * C.value)\n",
    "    "
   ]
  },
  {
   "cell_type": "code",
   "execution_count": 35,
   "id": "3cda34c1",
   "metadata": {},
   "outputs": [
    {
     "name": "stdout",
     "output_type": "stream",
     "text": [
      "1.66e+42 200.4760113813203 33.068977000000004 1.10390493393063\n",
      "1.88e+42 37.60269111326617 18.729763 1.1982402078367311\n"
     ]
    },
    {
     "data": {
      "image/png": "[encoded data removed]",
      "text/plain": [
       "<Figure size 432x288 with 1 Axes>"
      ]
     },
     "metadata": {
      "needs_background": "light"
     },
     "output_type": "display_data"
    }
   ],
   "source": [
    "time = np.linspace(0.001, 3.5)\n",
    "n = 3\n",
    "plt.plot(time, L(n,time), '--k', label='n=3')\n",
    "\n",
    "n = 3/2\n",
    "plt.plot(time, L(n,time), 'k', label='n=3/2')\n",
    "\n",
    "plt.plot(time, L_p15(time), '-r', label='p15')\n",
    "plt.legend(fontsize=14)\n",
    "plt.title(\"L to time\")\n",
    "plt.yscale('log')\n",
    "plt.show()"
   ]
  },
  {
   "cell_type": "code",
   "execution_count": 33,
   "id": "cbda06bf",
   "metadata": {},
   "outputs": [
    {
     "data": {
      "text/plain": [
       "3.176114435546028"
      ]
     },
     "execution_count": 33,
     "metadata": {},
     "output_type": "execute_result"
    }
   ],
   "source": [
    "4.87**0.73"
   ]
  },
  {
   "cell_type": "code",
   "execution_count": null,
   "id": "bc842f22",
   "metadata": {},
   "outputs": [],
   "source": []
  }
 ],
 "metadata": {
  "kernelspec": {
   "display_name": "Python 3 (ipykernel)",
   "language": "python",
   "name": "python3"
  },
  "language_info": {
   "codemirror_mode": {
    "name": "ipython",
    "version": 3
   },
   "file_extension": ".py",
   "mimetype": "text/x-python",
   "name": "python",
   "nbconvert_exporter": "python",
   "pygments_lexer": "ipython3",
   "version": "3.8.5"
  }
 },
 "nbformat": 4,
 "nbformat_minor": 5
}
