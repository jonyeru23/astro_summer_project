{
 "cells": [
  {
   "cell_type": "markdown",
   "id": "ce8a83db",
   "metadata": {},
   "source": [
    "# # metropilis hastings"
   ]
  },
  {
   "cell_type": "code",
   "execution_count": 18,
   "id": "1b77c476",
   "metadata": {},
   "outputs": [],
   "source": [
    "import numpy as np\n",
    "import math\n",
    "import matplotlib.pyplot as plt\n",
    "\n",
    "def met_hasting(p, jump_size, repeats, start, end):\n",
    "    x = np.random.uniform(start, end)\n",
    "    results = []\n",
    "    for _ in range(repeats):\n",
    "        results.append(x)\n",
    "        y = np.random.normal(x, jump_size)\n",
    "        \n",
    "        if np.random.uniform(0, 1) < p(x, y):\n",
    "            x = y\n",
    "    return results[repeats//4:]    \n"
   ]
  },
  {
   "cell_type": "code",
   "execution_count": 19,
   "id": "5656d972",
   "metadata": {},
   "outputs": [
    {
     "data": {
      "text/plain": [
       "[]"
      ]
     },
     "execution_count": 19,
     "metadata": {},
     "output_type": "execute_result"
    },
    {
     "data": {
      "image/png": "[encoded data removed]",
      "text/plain": [
       "<Figure size 432x288 with 1 Axes>"
      ]
     },
     "metadata": {
      "needs_background": "light"
     },
     "output_type": "display_data"
    }
   ],
   "source": [
    "## getting the N(0,1)\n",
    "\n",
    "p = lambda x, y: min(math.exp((x**2 - y**2)/2), 1)\n",
    "jump_size = 0.05\n",
    "repeats = 1000000\n",
    "\n",
    "results = met_hasting(p, jump_size, repeats, -5, 5)\n",
    "\n",
    "plt.hist(results, density=True)\n",
    "plt.plot()\n"
   ]
  },
  {
   "cell_type": "code",
   "execution_count": null,
   "id": "05c728b2",
   "metadata": {},
   "outputs": [],
   "source": []
  },
  {
   "cell_type": "code",
   "execution_count": null,
   "id": "932b7eba",
   "metadata": {},
   "outputs": [],
   "source": []
  },
  {
   "cell_type": "code",
   "execution_count": null,
   "id": "039875d5",
   "metadata": {},
   "outputs": [],
   "source": []
  },
  {
   "cell_type": "code",
   "execution_count": null,
   "id": "e691613a",
   "metadata": {},
   "outputs": [],
   "source": []
  }
 ],
 "metadata": {
  "kernelspec": {
   "display_name": "Python 3",
   "language": "python",
   "name": "python3"
  },
  "language_info": {
   "codemirror_mode": {
    "name": "ipython",
    "version": 3
   },
   "file_extension": ".py",
   "mimetype": "text/x-python",
   "name": "python",
   "nbconvert_exporter": "python",
   "pygments_lexer": "ipython3",
   "version": "3.8.5"
  }
 },
 "nbformat": 4,
 "nbformat_minor": 5
}
